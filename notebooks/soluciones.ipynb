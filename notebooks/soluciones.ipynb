{
 "cells": [
  {
   "cell_type": "code",
   "execution_count": 72,
   "metadata": {},
   "outputs": [],
   "source": [
    "from s3fs.core import S3FileSystem\n",
    "import pandas as pd\n",
    "import os\n",
    "import trino\n",
    "from dotenv import load_dotenv\n"
   ]
  },
  {
   "cell_type": "code",
   "execution_count": 55,
   "metadata": {},
   "outputs": [],
   "source": [
    "# Leemos el archivo y guardamos en formato parquet\n",
    "epf = pd.read_csv(\"../data/base-gastos-ix-epf.csv\", encoding = \"latin1\",  sep=\";\", decimal=\",\"   ) \n",
    "\n",
    "# Guardamos en parquet\n",
    "epf = epf[[\"glosa_ccif\", \"d\", \"g\", \"c\", \"sc\", \"p\", \"gasto\"]]\n",
    "epf.to_parquet(\"../data/base-gastos-ix-epf.parquet\")\n",
    " "
   ]
  },
  {
   "cell_type": "code",
   "execution_count": 56,
   "metadata": {},
   "outputs": [],
   "source": [
    "# Agregar credenciales\n",
    "access = \"capacitacion\"\n",
    "secret = \"capacitacion\"\n",
    "s3 = S3FileSystem(\n",
    "    key=access,\n",
    "    secret=secret,\n",
    "    endpoint_url=\"http://10.91.160.65:9000\"\n",
    ")"
   ]
  },
  {
   "cell_type": "code",
   "execution_count": 57,
   "metadata": {},
   "outputs": [],
   "source": [
    "# Guardamos en minio \n",
    "bucket = \"capacitacion-lago-datos\"\n",
    "file = \"base-gastos-ix-epf.parquet\"\n",
    "source_folder = \"../data\"\n",
    "\n",
    "minio_path = f\"{bucket}/data/epf_lehmann/{file}\"\n",
    "local_path = f\"{source_folder}/{file}\"\n",
    "s3.put_file(rpath=minio_path,lpath=local_path)\n"
   ]
  },
  {
   "cell_type": "code",
   "execution_count": 58,
   "metadata": {},
   "outputs": [
    {
     "data": {
      "text/plain": [
       "['capacitacion-lago-datos/data/epf_lehmann/base-gastos-ix-epf.parquet']"
      ]
     },
     "execution_count": 58,
     "metadata": {},
     "output_type": "execute_result"
    }
   ],
   "source": [
    "# Comprobar que esté el archivo\n",
    "s3.ls(f\"{bucket}/data/epf_lehmann/\")"
   ]
  },
  {
   "cell_type": "code",
   "execution_count": 59,
   "metadata": {},
   "outputs": [],
   "source": [
    "# Leemos el archivo\n",
    "parquet_example = pd.read_parquet(minio_path, filesystem=s3)"
   ]
  },
  {
   "cell_type": "code",
   "execution_count": 60,
   "metadata": {},
   "outputs": [
    {
     "data": {
      "text/html": [
       "<div>\n",
       "<style scoped>\n",
       "    .dataframe tbody tr th:only-of-type {\n",
       "        vertical-align: middle;\n",
       "    }\n",
       "\n",
       "    .dataframe tbody tr th {\n",
       "        vertical-align: top;\n",
       "    }\n",
       "\n",
       "    .dataframe thead th {\n",
       "        text-align: right;\n",
       "    }\n",
       "</style>\n",
       "<table border=\"1\" class=\"dataframe\">\n",
       "  <thead>\n",
       "    <tr style=\"text-align: right;\">\n",
       "      <th></th>\n",
       "      <th>glosa_ccif</th>\n",
       "      <th>d</th>\n",
       "      <th>g</th>\n",
       "      <th>c</th>\n",
       "      <th>sc</th>\n",
       "      <th>p</th>\n",
       "      <th>gasto</th>\n",
       "    </tr>\n",
       "  </thead>\n",
       "  <tbody>\n",
       "    <tr>\n",
       "      <th>0</th>\n",
       "      <td>PAN CORRIENTE A GRANEL</td>\n",
       "      <td>1.0</td>\n",
       "      <td>1.0</td>\n",
       "      <td>1.0</td>\n",
       "      <td>3.0</td>\n",
       "      <td>1.0</td>\n",
       "      <td>23914.285714</td>\n",
       "    </tr>\n",
       "    <tr>\n",
       "      <th>1</th>\n",
       "      <td>MASAS SALADAS SIN RELLENO Y SIN AGREGADOS PARA...</td>\n",
       "      <td>1.0</td>\n",
       "      <td>1.0</td>\n",
       "      <td>1.0</td>\n",
       "      <td>3.0</td>\n",
       "      <td>12.0</td>\n",
       "      <td>27678.571429</td>\n",
       "    </tr>\n",
       "    <tr>\n",
       "      <th>2</th>\n",
       "      <td>CARNE DE VACUNO CORTE POSTA</td>\n",
       "      <td>1.0</td>\n",
       "      <td>1.0</td>\n",
       "      <td>2.0</td>\n",
       "      <td>2.0</td>\n",
       "      <td>4.0</td>\n",
       "      <td>23250.000000</td>\n",
       "    </tr>\n",
       "    <tr>\n",
       "      <th>3</th>\n",
       "      <td>OTROS CORTES DE CARNE DE VACUNO</td>\n",
       "      <td>1.0</td>\n",
       "      <td>1.0</td>\n",
       "      <td>2.0</td>\n",
       "      <td>2.0</td>\n",
       "      <td>6.0</td>\n",
       "      <td>36535.714286</td>\n",
       "    </tr>\n",
       "    <tr>\n",
       "      <th>4</th>\n",
       "      <td>PECHUGA DE POLLO</td>\n",
       "      <td>1.0</td>\n",
       "      <td>1.0</td>\n",
       "      <td>2.0</td>\n",
       "      <td>2.0</td>\n",
       "      <td>18.0</td>\n",
       "      <td>7750.000000</td>\n",
       "    </tr>\n",
       "  </tbody>\n",
       "</table>\n",
       "</div>"
      ],
      "text/plain": [
       "                                          glosa_ccif    d    g    c   sc  \\\n",
       "0                             PAN CORRIENTE A GRANEL  1.0  1.0  1.0  3.0   \n",
       "1  MASAS SALADAS SIN RELLENO Y SIN AGREGADOS PARA...  1.0  1.0  1.0  3.0   \n",
       "2                        CARNE DE VACUNO CORTE POSTA  1.0  1.0  2.0  2.0   \n",
       "3                    OTROS CORTES DE CARNE DE VACUNO  1.0  1.0  2.0  2.0   \n",
       "4                                   PECHUGA DE POLLO  1.0  1.0  2.0  2.0   \n",
       "\n",
       "      p         gasto  \n",
       "0   1.0  23914.285714  \n",
       "1  12.0  27678.571429  \n",
       "2   4.0  23250.000000  \n",
       "3   6.0  36535.714286  \n",
       "4  18.0   7750.000000  "
      ]
     },
     "execution_count": 60,
     "metadata": {},
     "output_type": "execute_result"
    }
   ],
   "source": [
    "# Miramos las primeras filas\n",
    "parquet_example.head()\n"
   ]
  },
  {
   "cell_type": "code",
   "execution_count": 61,
   "metadata": {},
   "outputs": [],
   "source": [
    "\n",
    "# Cargamos variables de ambiente \n",
    "load_dotenv() \n",
    "\n",
    "# Setear credenciales\n",
    "conn = trino.dbapi.connect(\n",
    "        host=os.environ[\"host\"], # cambiar por IP\n",
    "        port=os.environ[\"port\"], # cambiar puerto\n",
    "        user=os.environ[\"user\"], # cambiar usuario\n",
    "        catalog=os.environ[\"catalog\"], # cambiar catalogo\n",
    "        schema = os.environ[\"schema\"] # cambiar esquema\n",
    ")\n"
   ]
  },
  {
   "cell_type": "code",
   "execution_count": 62,
   "metadata": {},
   "outputs": [],
   "source": [
    "table_name = \"klaus\"\n",
    "bucket = \"capacitacion-lago-datos\"\n",
    "folder = \"data/epf_lehmann\"\n",
    "\n",
    "# Esta query elimina la tabla, en caso de que ya exista\n",
    "query_drop = f\"drop table if exists minio.capacitacion.{table_name}\"\n",
    "\n",
    "# La query lee todo lo que hay en un directorio y lo convierte en una tabla de trino \n",
    "query = f\"\"\"\n",
    "    CREATE TABLE minio.capacitacion.{table_name} (\n",
    "        glosa_ccif VARCHAR,\n",
    "        d DOUBLE,\n",
    "        g DOUBLE, \n",
    "        c DOUBLE,\n",
    "        sc DOUBLE,\n",
    "        p DOUBLE,\n",
    "        gasto DOUBLE\n",
    "        \n",
    "    )\n",
    "    WITH (\n",
    "        format = 'PARQUET', \n",
    "        external_location = 's3a://capacitacion-lago-datos/{folder}'\n",
    "    )\n",
    "    \"\"\"\n"
   ]
  },
  {
   "cell_type": "code",
   "execution_count": 63,
   "metadata": {},
   "outputs": [
    {
     "data": {
      "text/plain": [
       "<trino.dbapi.Cursor at 0x1925c392710>"
      ]
     },
     "execution_count": 63,
     "metadata": {},
     "output_type": "execute_result"
    }
   ],
   "source": [
    "# Ejecutamos la query para borrar\n",
    "cursor = conn.cursor()\n",
    "cursor.execute(query_drop)\n",
    "\n",
    "# ejecutamos la query para crear tabla \n",
    "cursor.execute(query)\n"
   ]
  },
  {
   "cell_type": "code",
   "execution_count": 70,
   "metadata": {},
   "outputs": [
    {
     "data": {
      "text/plain": [
       "[[970773]]"
      ]
     },
     "execution_count": 70,
     "metadata": {},
     "output_type": "execute_result"
    }
   ],
   "source": [
    "# Contemos el número de filas de la tabla\n",
    "query = \"select count(*) from klaus\"\n",
    "cursor.execute(query)\n",
    "data = cursor.fetchall()\n",
    "data\n"
   ]
  },
  {
   "cell_type": "code",
   "execution_count": 71,
   "metadata": {},
   "outputs": [
    {
     "data": {
      "text/plain": [
       "[['PAN CORRIENTE A GRANEL', 1.0, 1.0, 1.0, 3.0, 1.0, 23914.2857142857],\n",
       " ['MASAS SALADAS SIN RELLENO Y SIN AGREGADOS PARA COCINAR',\n",
       "  1.0,\n",
       "  1.0,\n",
       "  1.0,\n",
       "  3.0,\n",
       "  12.0,\n",
       "  27678.5714285714],\n",
       " ['CARNE DE VACUNO CORTE POSTA', 1.0, 1.0, 2.0, 2.0, 4.0, 23250.0],\n",
       " ['OTROS EMBUTIDOS FRESCOS', 1.0, 1.0, 2.0, 5.0, 5.0, 11071.4285714286],\n",
       " ['ATÃ\\x9aN EN CONSERVA', 1.0, 1.0, 3.0, 3.0, 2.0, 26571.4285714286],\n",
       " ['QUESO GOUDA', 1.0, 1.0, 4.0, 5.0, 1.0, 8857.14285714286],\n",
       " ['OTROS CORTES DE CARNE DE VACUNO',\n",
       "  1.0,\n",
       "  1.0,\n",
       "  2.0,\n",
       "  2.0,\n",
       "  6.0,\n",
       "  36535.7142857143],\n",
       " ['PECHUGA DE POLLO', 1.0, 1.0, 2.0, 2.0, 18.0, 7750.0],\n",
       " ['CECINAS Y FIAMBRES DE POLLO COCIDOS',\n",
       "  1.0,\n",
       "  1.0,\n",
       "  2.0,\n",
       "  3.0,\n",
       "  5.0,\n",
       "  2214.28571428571],\n",
       " ['VIENESAS TRADICIONALES', 1.0, 1.0, 2.0, 5.0, 1.0, 2214.28571428571]]"
      ]
     },
     "execution_count": 71,
     "metadata": {},
     "output_type": "execute_result"
    }
   ],
   "source": [
    "query = \"select * from klaus limit 10\"\n",
    "cursor.execute(query)\n",
    "data = cursor.fetchall()\n",
    "data"
   ]
  },
  {
   "cell_type": "code",
   "execution_count": 69,
   "metadata": {},
   "outputs": [
    {
     "data": {
      "text/plain": [
       "[[1.0, 442763],\n",
       " [2.0, 15121],\n",
       " [3.0, 54368],\n",
       " [4.0, 78987],\n",
       " [5.0, 66853],\n",
       " [6.0, 45844],\n",
       " [7.0, 48815],\n",
       " [8.0, 47630],\n",
       " [9.0, 37553],\n",
       " [10.0, 11871],\n",
       " [11.0, 39902],\n",
       " [12.0, 33207],\n",
       " [13.0, 47857],\n",
       " [None, 2]]"
      ]
     },
     "execution_count": 69,
     "metadata": {},
     "output_type": "execute_result"
    }
   ],
   "source": [
    "# Query group by\n",
    "query = \"select d,  count(*) as frecuencia from klaus group by d order by d\"\n",
    "cursor.execute(query)\n",
    "data = cursor.fetchall()\n",
    "data\n",
    "\n"
   ]
  }
 ],
 "metadata": {
  "kernelspec": {
   "display_name": ".venv",
   "language": "python",
   "name": "python3"
  },
  "language_info": {
   "codemirror_mode": {
    "name": "ipython",
    "version": 3
   },
   "file_extension": ".py",
   "mimetype": "text/x-python",
   "name": "python",
   "nbconvert_exporter": "python",
   "pygments_lexer": "ipython3",
   "version": "3.11.9"
  }
 },
 "nbformat": 4,
 "nbformat_minor": 2
}
