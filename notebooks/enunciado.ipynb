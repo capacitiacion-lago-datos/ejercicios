{
 "cells": [
  {
   "cell_type": "markdown",
   "metadata": {},
   "source": [
    "# Ejercicios\n",
    "\n",
    "### Jupyter\n",
    "- Crea un directorio de trabajo en jupyterhub\n",
    "- Descarga la última versión csv de la EPF y guárdala en el subdirectorio data\n",
    "- Lee el archivo (separado por ;) y guarda en formato parquet en el subdirectorio data. La coma es la separación de decimal.\n",
    "- Selecciona las siguientes columnas: glosa_ccif, d, g, c, sc, p, gasto\n",
    "\n",
    "### Minio\n",
    "- Guarda el archivo parquet en un subdirectorio de minio dentro de data, cuyo nombre tenga la siguiente estructura data/epf_{apellido}/archivo.parquet \n",
    "- Lee el archivo guardado en minio para comprobar que esté todo bien. Haz un head (df.head()) para explorar los datos \n",
    "- Guarda una versión 2 del archivo que solo contenga las columnas: d, g, c, sc, p.  \n",
    "\n",
    "### Trino\n",
    "- Virtualiza la tabla en trino. El nombre de la tabla debe ser tu apellido\n",
    "- Haz una query para contar el número de filas en cada división (columna d)\n",
    "- Guarda el resultado de esa query en la carpeta de minio que ya creaste.  "
   ]
  }
 ],
 "metadata": {
  "language_info": {
   "name": "python"
  }
 },
 "nbformat": 4,
 "nbformat_minor": 2
}
